{
 "cells": [
  {
   "cell_type": "code",
   "execution_count": 11,
   "metadata": {},
   "outputs": [
    {
     "name": "stdout",
     "output_type": "stream",
     "text": [
      "x1:  1.1 y1:  2.7846419118859376\n",
      "x2:  1.2000000000000002 y2:  4.141490537335979\n",
      "x3:  1.3000000000000003 y3:  6.618844434974083\n",
      "true solution:  [[2.00000000e+00]\n",
      " [5.40540780e+00]\n",
      " [7.95188449e+09]\n",
      " [1.20000000e+01]]\n"
     ]
    },
    {
     "name": "stderr",
     "output_type": "stream",
     "text": [
      "/Users/vlzqz/anaconda3/lib/python3.11/site-packages/scipy/integrate/_odepack_py.py:248: ODEintWarning: Excess work done on this call (perhaps wrong Dfun type). Run with full_output = 1 to get quantitative information.\n",
      "  warnings.warn(warning_msg, ODEintWarning)\n"
     ]
    }
   ],
   "source": [
    "import numpy as np\n",
    "from scipy.integrate import odeint\n",
    "import matplotlib.pyplot as plt\n",
    "\n",
    "\n",
    "def dydx(x, y):\n",
    "    return 3 * x * x * y\n",
    "\n",
    "def t4(k1, k2, k3, k4):\n",
    "    return (k1 + 2*k2 + 2*k3 + k4)/6\n",
    "\n",
    "def rungeKutta(x0, y0, h):\n",
    "    k1 = dydx(x0, y0)\n",
    "    k2 = dydx(x0 + .5*h, y0 + .5*h * k1)\n",
    "    k3 = dydx(x0 + .5*h, y0 + .5*h * k2)\n",
    "    k4 = dydx(x0 + h, y0 + h * k3)\n",
    "    y = y0 + h * t4(k1, k2, k3, k4)\n",
    "    return y\n",
    "\n",
    "# Driver method\n",
    "h = 0.1\n",
    "x0 = 1\n",
    "y0 = 2\n",
    "\n",
    "# x = np.linspace(0, 10, 100)\n",
    "# y = odeint(dydx, y0, x)\n",
    "\n",
    "# plt.plot(x, y)\n",
    "# plt.xlabel('x')\n",
    "# plt.ylabel('y')\n",
    "# plt.title('ODE Solution')\n",
    "# plt.show()\n",
    "\n",
    "# print('odeints solution: ', y)\n",
    "# print('Runge Kutta solution: ', rungeKutta(x, y0, h))\n",
    "\n",
    "x1 = x0 + h\n",
    "x2 = x1 + h\n",
    "x3 = x2 + h\n",
    "\n",
    "y1 = rungeKutta(x0, y0, h)\n",
    "y2 = rungeKutta(x1, y1, h)\n",
    "y3 = rungeKutta(x2, y2, h)\n",
    "\n",
    "trueSolution = odeint(dydx, y0, [x0, x1, x2, x3])\n",
    "\n",
    "print('x1: ', x1, 'y1: ', y1)\n",
    "print('x2: ', x2, 'y2: ', y2)\n",
    "print('x3: ', x3, 'y3: ', y3)\n",
    "print('true solution: ', trueSolution)"
   ]
  }
 ],
 "metadata": {
  "kernelspec": {
   "display_name": "base",
   "language": "python",
   "name": "python3"
  },
  "language_info": {
   "codemirror_mode": {
    "name": "ipython",
    "version": 3
   },
   "file_extension": ".py",
   "mimetype": "text/x-python",
   "name": "python",
   "nbconvert_exporter": "python",
   "pygments_lexer": "ipython3",
   "version": "3.11.4"
  }
 },
 "nbformat": 4,
 "nbformat_minor": 2
}
