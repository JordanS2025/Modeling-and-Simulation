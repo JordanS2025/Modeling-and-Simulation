{
 "cells": [
  {
   "cell_type": "code",
   "execution_count": 2,
   "metadata": {},
   "outputs": [
    {
     "ename": "ModuleNotFoundError",
     "evalue": "No module named 'RKF'",
     "output_type": "error",
     "traceback": [
      "\u001b[0;31m---------------------------------------------------------------------------\u001b[0m",
      "\u001b[0;31mModuleNotFoundError\u001b[0m                       Traceback (most recent call last)",
      "Cell \u001b[0;32mIn[2], line 4\u001b[0m\n\u001b[1;32m      2\u001b[0m \u001b[38;5;28;01mimport\u001b[39;00m \u001b[38;5;21;01mmatplotlib\u001b[39;00m\u001b[38;5;21;01m.\u001b[39;00m\u001b[38;5;21;01mpyplot\u001b[39;00m \u001b[38;5;28;01mas\u001b[39;00m \u001b[38;5;21;01mplt\u001b[39;00m \n\u001b[1;32m      3\u001b[0m \u001b[38;5;28;01mimport\u001b[39;00m \u001b[38;5;21;01mtime\u001b[39;00m\n\u001b[0;32m----> 4\u001b[0m \u001b[38;5;28;01mfrom\u001b[39;00m \u001b[38;5;21;01mRKF\u001b[39;00m \u001b[38;5;28;01mimport\u001b[39;00m rkf\n\u001b[1;32m      5\u001b[0m \u001b[38;5;28;01mimport\u001b[39;00m \u001b[38;5;21;01mmatplotlib\u001b[39;00m\u001b[38;5;21;01m.\u001b[39;00m\u001b[38;5;21;01manimation\u001b[39;00m \u001b[38;5;28;01mas\u001b[39;00m \u001b[38;5;21;01manimation\u001b[39;00m\n\u001b[1;32m      7\u001b[0m \u001b[38;5;28;01mdef\u001b[39;00m \u001b[38;5;21mlorenz\u001b[39m(t,u):\n",
      "\u001b[0;31mModuleNotFoundError\u001b[0m: No module named 'RKF'"
     ]
    }
   ],
   "source": [
    "import numpy as np\n",
    "import matplotlib.pyplot as plt \n",
    "import time\n",
    "from RKF import rkf\n",
    "import matplotlib.animation as animation\n",
    "\n",
    "def lorenz(t,u):\n",
    "    s=10\n",
    "    r=24\n",
    "    b=8/3\n",
    "    x,y,z=u\n",
    "    vx=s*y-s*x\n",
    "    vy=r*x-x*z-y\n",
    "    vz=x*y-b*z\n",
    "    return np.array([vx,vy,vz])\n",
    "\n",
    "x0=[2,2,2]\n",
    "\n",
    "t,u  = rkf( f=lorenz, a=0, b=1e+1, x0=x0, atol=1e-8, rtol=1e-6 , hmax=1e-1, hmin=1e-40,plot_stepsize=True).solve()\n",
    "\n",
    "x,y,z= u.T\n",
    "\n",
    "plt.style.use('dark_background')\n",
    "fig = plt.figure()\n",
    "ax = fig.gca(projection='3d')\n",
    "ax.set_axis_off()\n",
    "ax.plot(x,y,z,lw=0.5,c='whitesmoke')\n",
    "# plt.show()\n",
    "\n",
    "def rotate(angle):\n",
    "    ax.view_init(elev=7.,azim=angle)\n",
    "\n",
    "print(\"Making animation\")\n",
    "rot_animation = animation.FuncAnimation(fig, rotate, frames=np.arange(0, 600, 2), interval=36)\n",
    "rot_animation.save('lorenz.gif', dpi=400, writer='imagemagick')"
   ]
  }
 ],
 "metadata": {
  "kernelspec": {
   "display_name": "base",
   "language": "python",
   "name": "python3"
  },
  "language_info": {
   "codemirror_mode": {
    "name": "ipython",
    "version": 3
   },
   "file_extension": ".py",
   "mimetype": "text/x-python",
   "name": "python",
   "nbconvert_exporter": "python",
   "pygments_lexer": "ipython3",
   "version": "3.11.4"
  }
 },
 "nbformat": 4,
 "nbformat_minor": 2
}
